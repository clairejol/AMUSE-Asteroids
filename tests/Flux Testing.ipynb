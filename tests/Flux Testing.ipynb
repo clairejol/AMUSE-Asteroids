{
 "cells": [
  {
   "cell_type": "code",
   "execution_count": null,
   "id": "c60c64f9",
   "metadata": {},
   "outputs": [],
   "source": [
    "import cube_sphere\n",
    "import asteroid\n",
    "import system as sys\n",
    "import bridge as b\n",
    "import main\n",
    "\n",
    "%matplotlib inline\n",
    "import matplotlib.pyplot as plt\n",
    "import numpy as np\n",
    "import itertools\n",
    "from matplotlib import pyplot\n",
    "from amuse.plot import plot, scatter\n",
    "from amuse.units import units as u, constants\n",
    "from amuse.lab import Particles, Particle, nbody_system, constants\n",
    "\n",
    "from amuse.couple import bridge\n",
    "from amuse.community.hermite.interface import Hermite"
   ]
  },
  {
   "cell_type": "code",
   "execution_count": null,
   "id": "f028e6e3",
   "metadata": {},
   "outputs": [],
   "source": [
    "config = main.get_config()\n",
    "system = sys.System(config[0])"
   ]
  },
  {
   "cell_type": "code",
   "execution_count": null,
   "id": "6c6c5d08",
   "metadata": {},
   "outputs": [],
   "source": [
    "b.Evolve(system, 0.1, 15)"
   ]
  },
  {
   "cell_type": "code",
   "execution_count": null,
   "id": "3b735696",
   "metadata": {
    "scrolled": false
   },
   "outputs": [],
   "source": [
    "main.plots(system, config[1])"
   ]
  },
  {
   "cell_type": "code",
   "execution_count": null,
   "id": "f2cf1bbc",
   "metadata": {},
   "outputs": [],
   "source": [
    "system.light_curve"
   ]
  },
  {
   "cell_type": "code",
   "execution_count": null,
   "id": "be4d4b1a",
   "metadata": {},
   "outputs": [],
   "source": [
    "system.re_em_flux"
   ]
  },
  {
   "cell_type": "code",
   "execution_count": null,
   "id": "02266e25",
   "metadata": {},
   "outputs": [],
   "source": [
    "system.refl_flux"
   ]
  },
  {
   "cell_type": "code",
   "execution_count": null,
   "id": "ddbeb5b5",
   "metadata": {},
   "outputs": [],
   "source": [
    "sums = system.refl_flux + system.re_em_flux\n",
    "sums"
   ]
  },
  {
   "cell_type": "code",
   "execution_count": null,
   "id": "0f2b7ab7",
   "metadata": {},
   "outputs": [],
   "source": [
    "re_em = np.sum(system.re_em_flux[0])"
   ]
  },
  {
   "cell_type": "code",
   "execution_count": null,
   "id": "4048d0ad",
   "metadata": {},
   "outputs": [],
   "source": [
    "#tot = ref + re_em\n",
    "tot = np.sum(sums)\n",
    "tot"
   ]
  },
  {
   "cell_type": "code",
   "execution_count": null,
   "id": "1cd26b63",
   "metadata": {},
   "outputs": [],
   "source": [
    "flux = np.sum(system.light_curve)"
   ]
  },
  {
   "cell_type": "code",
   "execution_count": null,
   "id": "b88ccda4",
   "metadata": {},
   "outputs": [],
   "source": [
    "flux.number"
   ]
  },
  {
   "cell_type": "code",
   "execution_count": null,
   "id": "06e7772a",
   "metadata": {},
   "outputs": [],
   "source": []
  }
 ],
 "metadata": {
  "kernelspec": {
   "display_name": "Python 3 (ipykernel)",
   "language": "python",
   "name": "python3"
  },
  "language_info": {
   "codemirror_mode": {
    "name": "ipython",
    "version": 3
   },
   "file_extension": ".py",
   "mimetype": "text/x-python",
   "name": "python",
   "nbconvert_exporter": "python",
   "pygments_lexer": "ipython3",
   "version": "3.8.13"
  }
 },
 "nbformat": 4,
 "nbformat_minor": 5
}
