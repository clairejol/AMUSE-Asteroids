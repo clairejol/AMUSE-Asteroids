{
 "cells": [
  {
   "cell_type": "markdown",
   "metadata": {},
   "source": [
    "Cube - Sphere Testing"
   ]
  },
  {
   "cell_type": "code",
   "execution_count": null,
   "metadata": {},
   "outputs": [],
   "source": [
    "import numpy as np\n",
    "import itertools \n",
    "\n",
    "from mayavi import mlab\n",
    "\n",
    "from cube_sphere import Cube, Sphere"
   ]
  },
  {
   "cell_type": "code",
   "execution_count": null,
   "metadata": {},
   "outputs": [],
   "source": [
    "sphere = Sphere(1, definition = 5)\n",
    "sphere_normals, sphere_centers = sphere.get_sphere_normals(return_centers=True)"
   ]
  },
  {
   "cell_type": "code",
   "execution_count": null,
   "metadata": {},
   "outputs": [],
   "source": [
    "X = sphere().T[0]\n",
    "Y = sphere().T[1]\n",
    "Z = sphere().T[2]\n",
    "\n",
    "C = np.repeat(np.array([0.1, 0.3, 0.5, 0.7, 0.9, 1.1]), len(Z)/6)\n",
    "\n",
    "pts = mlab.points3d(X, Y, Z)\n",
    "pts.glyph.scale_mode = 'scale_by_vector'\n",
    "pts.mlab_source.dataset.point_data.scalars = C\n",
    "\n",
    "#pts_2 = mlab.points3d(sphere_centers.T[0], sphere_centers.T[1], sphere_centers.T[2])\n",
    "\n",
    "vectors = mlab.quiver3d(sphere_centers.T[0], sphere_centers.T[1], sphere_centers.T[2], \n",
    "                        sphere_normals.T[0], sphere_normals.T[1], sphere_normals.T[2])\n",
    "\n",
    "mlab.show()"
   ]
  },
  {
   "cell_type": "markdown",
   "metadata": {},
   "source": [
    "System Testing"
   ]
  },
  {
   "cell_type": "code",
   "execution_count": 16,
   "metadata": {},
   "outputs": [],
   "source": [
    "from system import System\n",
    "from amuse.units import units as u\n",
    "import numpy as np\n",
    "\n",
    "system_info = {\n",
    "    \"stars\" : { \n",
    "        \"Sun\" : {\n",
    "            \"name\"     : \"Sun\",\n",
    "            \"mass\"     : 1 | u.MSun,\n",
    "            \"radius\"   : 1 | u.RSun,\n",
    "            \"semimajor_axis\" : 0 | u.au,\n",
    "            \"orbital_phase\" : 0\n",
    "            # luminosity?\n",
    "            }\n",
    "        },\n",
    "    \n",
    "    \"planets\" : { \n",
    "        \"Earth\" : {\n",
    "            \"name\"     : \"Earth\",\n",
    "            \"mass\"     : 1 | u.MEarth,\n",
    "            \"radius\"   : 1 | u.REarth,\n",
    "            \"semimajor_axis\" : 1 | u.au,\n",
    "            \"orbital_phase\" : 0\n",
    "            },\n",
    "        \n",
    "        \"Jupiter\" : {\n",
    "            \"name\"     : \"Jupiter\",\n",
    "            \"mass\"     : 1 | u.MJupiter,\n",
    "            \"radius\"   : 1 | u.RJupiter,\n",
    "            \"semimajor_axis\" : 5 | u.au,\n",
    "            \"orbital_phase\" : np.pi/6\n",
    "            }\n",
    "        }\n",
    "    }"
   ]
  },
  {
   "cell_type": "code",
   "execution_count": 17,
   "metadata": {},
   "outputs": [],
   "source": [
    "system = System(system_info)"
   ]
  },
  {
   "cell_type": "code",
   "execution_count": 20,
   "metadata": {},
   "outputs": [
    {
     "name": "stdout",
     "output_type": "stream",
     "text": [
      "                 key         mass         name       radius           vx           vy           vz            x            y            z\n",
      "                   -       MEarth         none       REarth  3646245880.357221 * m * s**-1  3646245880.357221 * m * s**-1  3646245880.357221 * m * s**-1           au           au           au\n",
      "====================  ===========  ===========  ===========  ===========  ===========  ===========  ===========  ===========  ===========\n",
      "14953519804345031303    1.000e+00        Earth    1.000e+00   -0.000e+00    8.170e-06    0.000e+00    1.000e+00    0.000e+00    0.000e+00\n",
      " 5745876671071750700    3.179e+02      Jupiter    1.122e+01   -1.564e-06    2.708e-06    0.000e+00    4.330e+00    2.500e+00    0.000e+00\n",
      "====================  ===========  ===========  ===========  ===========  ===========  ===========  ===========  ===========  ===========\n"
     ]
    }
   ],
   "source": [
    "print(system.planets)"
   ]
  },
  {
   "cell_type": "markdown",
   "metadata": {},
   "source": [
    "Asteroid Testing"
   ]
  },
  {
   "cell_type": "code",
   "execution_count": 13,
   "metadata": {},
   "outputs": [],
   "source": [
    "from amuse.lab import Particles, Particle\n",
    "from asteroid import Asteroid\n",
    "from amuse.units import units as u"
   ]
  },
  {
   "cell_type": "code",
   "execution_count": 14,
   "metadata": {},
   "outputs": [
    {
     "data": {
      "text/plain": [
       "<amuse.datamodel.particles.Particle at 0x7f0e5cae3d00>"
      ]
     },
     "execution_count": 14,
     "metadata": {},
     "output_type": "execute_result"
    }
   ],
   "source": [
    "ast_1 = Asteroid(10 | u.m)\n",
    "ast_1.position = (0, 0, 0) | u.AU\n",
    "ast_1.velocity = (10, 10, 0) | u.kms\n",
    "ast_1.name = \"Asteroid 1\"\n",
    "\n",
    "Asteroids = Particles()\n",
    "Asteroids.add_particle(ast_1)"
   ]
  },
  {
   "cell_type": "code",
   "execution_count": 15,
   "metadata": {},
   "outputs": [
    {
     "name": "stdout",
     "output_type": "stream",
     "text": [
      "                 key         name       radius           vx           vy           vz            x            y            z\n",
      "                   -         none            m          kms          kms          kms           AU           AU           AU\n",
      "====================  ===========  ===========  ===========  ===========  ===========  ===========  ===========  ===========\n",
      "17458947507281594865   Asteroid 1    1.000e+01    1.000e+01    1.000e+01    0.000e+00    0.000e+00    0.000e+00    0.000e+00\n",
      "====================  ===========  ===========  ===========  ===========  ===========  ===========  ===========  ===========\n"
     ]
    }
   ],
   "source": [
    "print(Asteroids)"
   ]
  },
  {
   "cell_type": "code",
   "execution_count": null,
   "metadata": {},
   "outputs": [],
   "source": []
  }
 ],
 "metadata": {
  "kernelspec": {
   "display_name": "Python 3.10.4 ('amuse')",
   "language": "python",
   "name": "python3"
  },
  "language_info": {
   "codemirror_mode": {
    "name": "ipython",
    "version": 3
   },
   "file_extension": ".py",
   "mimetype": "text/x-python",
   "name": "python",
   "nbconvert_exporter": "python",
   "pygments_lexer": "ipython3",
   "version": "3.10.4"
  },
  "orig_nbformat": 4,
  "vscode": {
   "interpreter": {
    "hash": "a962b7c3b562fbb7fd956aad1b835faa3f520ffd9808a012eb2b182c56488247"
   }
  }
 },
 "nbformat": 4,
 "nbformat_minor": 2
}
