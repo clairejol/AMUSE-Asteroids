{
 "cells": [
  {
   "cell_type": "markdown",
   "metadata": {},
   "source": [
    "Cube - Sphere Testing"
   ]
  },
  {
   "cell_type": "code",
   "execution_count": null,
   "metadata": {},
   "outputs": [],
   "source": [
    "import numpy as np\n",
    "import itertools \n",
    "\n",
    "from mayavi import mlab\n",
    "\n",
    "from cube_sphere import Cube, Sphere"
   ]
  },
  {
   "cell_type": "code",
   "execution_count": null,
   "metadata": {},
   "outputs": [],
   "source": [
    "sphere = Sphere(1, definition = 5)\n",
    "sphere_normals, sphere_centers = sphere.get_sphere_normals(return_centers=True)"
   ]
  },
  {
   "cell_type": "code",
   "execution_count": null,
   "metadata": {},
   "outputs": [],
   "source": [
    "X = sphere().T[0]\n",
    "Y = sphere().T[1]\n",
    "Z = sphere().T[2]\n",
    "\n",
    "C = np.repeat(np.array([0.1, 0.3, 0.5, 0.7, 0.9, 1.1]), len(Z)/6)\n",
    "\n",
    "pts = mlab.points3d(X, Y, Z)\n",
    "pts.glyph.scale_mode = 'scale_by_vector'\n",
    "pts.mlab_source.dataset.point_data.scalars = C\n",
    "\n",
    "#pts_2 = mlab.points3d(sphere_centers.T[0], sphere_centers.T[1], sphere_centers.T[2])\n",
    "\n",
    "vectors = mlab.quiver3d(sphere_centers.T[0], sphere_centers.T[1], sphere_centers.T[2], \n",
    "                        sphere_normals.T[0], sphere_normals.T[1], sphere_normals.T[2])\n",
    "\n",
    "mlab.show()"
   ]
  },
  {
   "cell_type": "markdown",
   "metadata": {},
   "source": [
    "System Testing"
   ]
  },
  {
   "cell_type": "code",
   "execution_count": null,
   "metadata": {},
   "outputs": [],
   "source": [
    "from system import System\n",
    "from amuse.units import units as u\n",
    "import numpy as np\n",
    "\n",
    "system_info = {\n",
    "    \"stars\" : { \n",
    "        \"Sun\" : {\n",
    "            \"name\"     : \"Sun\",\n",
    "            \"mass\"     : 1 | u.MSun,\n",
    "            \"radius\"   : 1 | u.RSun,\n",
    "            \"semimajor_axis\" : 0 | u.au,\n",
    "            \"orbital_phase\" : 0,\n",
    "            \"luminosity\" : 1 | u.LSun,\n",
    "            },\n",
    "        },\n",
    "    \n",
    "    \"planets\" : { \n",
    "        \"Earth\" : {\n",
    "            \"name\"     : \"Earth\",\n",
    "            \"mass\"     : 1 | u.MEarth,\n",
    "            \"radius\"   : 1 | u.REarth,\n",
    "            \"semimajor_axis\" : 1 | u.au,\n",
    "            \"orbital_phase\" : np.pi/4,\n",
    "            },\n",
    "        \n",
    "        \"Jupiter\" : {\n",
    "            \"name\"     : \"Jupiter\",\n",
    "            \"mass\"     : 1 | u.MJupiter,\n",
    "            \"radius\"   : 1 | u.RJupiter,\n",
    "            \"semimajor_axis\" : 5 | u.au,\n",
    "            \"orbital_phase\" : np.pi/6,\n",
    "            },\n",
    "        \n",
    "        },\n",
    "    \n",
    "    \"asteroids\" : {\n",
    "        \"Bennu\" : {\n",
    "            \"name\"     : \"Bennu\",\n",
    "            \"mass\"     : 73e9 | u.kg,\n",
    "            \"radius\"   : 0.24 | u.km,\n",
    "            \"semimajor_axis\" : 1.126 | u.au,\n",
    "            \"orbital_phase\" : np.pi/4,\n",
    "            },\n",
    "        }\n",
    "    }"
   ]
  },
  {
   "cell_type": "code",
   "execution_count": null,
   "metadata": {},
   "outputs": [],
   "source": [
    "system = System(system_info)"
   ]
  },
  {
   "cell_type": "code",
   "execution_count": null,
   "metadata": {},
   "outputs": [],
   "source": [
    "system.get_gravity_at_point(0,0,0,0)"
   ]
  },
  {
   "cell_type": "code",
   "execution_count": null,
   "metadata": {},
   "outputs": [],
   "source": [
    "system.calculate_flux(system.asteroids[0])"
   ]
  },
  {
   "cell_type": "markdown",
   "metadata": {},
   "source": [
    "Asteroid Testing"
   ]
  },
  {
   "cell_type": "code",
   "execution_count": 1,
   "metadata": {},
   "outputs": [],
   "source": [
    "from amuse.lab import Particles, Particle\n",
    "from asteroid import Asteroid\n",
    "from amuse.units import units as u"
   ]
  },
  {
   "cell_type": "code",
   "execution_count": 14,
   "metadata": {},
   "outputs": [],
   "source": [
    "ast_1 = Asteroid(10 | u.m)\n",
    "ast_1.position = (1, 1, 0) | u.AU\n",
    "ast_1.velocity = (10, 10, 0) | u.kms\n",
    "ast_1.name = \"Asteroid 1\"\n",
    "\n",
    "ast_2 = Asteroid(1 | u.m)"
   ]
  },
  {
   "cell_type": "code",
   "execution_count": 26,
   "metadata": {},
   "outputs": [],
   "source": [
    "class Derp(Particle):\n",
    "    def __init__(self, key=None, particles_set=None, set_index=None, set_version=-1, **keyword_arguments):\n",
    "        super().__init__(key, particles_set, set_index, set_version, **keyword_arguments)\n",
    "        self.derp = 0\n",
    "\n",
    "        object.__setattr__(self, 'derp', [10, 10, 10])"
   ]
  },
  {
   "cell_type": "code",
   "execution_count": 28,
   "metadata": {},
   "outputs": [
    {
     "data": {
      "text/plain": [
       "0"
      ]
     },
     "execution_count": 28,
     "metadata": {},
     "output_type": "execute_result"
    }
   ],
   "source": [
    "a = Derp()\n",
    "a.derp\n",
    "\n",
    "derps = Particles()\n",
    "derps.add_particle(a)\n",
    "derps[0].derp"
   ]
  },
  {
   "cell_type": "markdown",
   "metadata": {},
   "source": [
    "Composite Testing"
   ]
  },
  {
   "cell_type": "code",
   "execution_count": null,
   "metadata": {},
   "outputs": [],
   "source": []
  }
 ],
 "metadata": {
  "kernelspec": {
   "display_name": "Python 3.10.4 ('amuse')",
   "language": "python",
   "name": "python3"
  },
  "language_info": {
   "codemirror_mode": {
    "name": "ipython",
    "version": 3
   },
   "file_extension": ".py",
   "mimetype": "text/x-python",
   "name": "python",
   "nbconvert_exporter": "python",
   "pygments_lexer": "ipython3",
   "version": "3.10.4"
  },
  "orig_nbformat": 4,
  "vscode": {
   "interpreter": {
    "hash": "a962b7c3b562fbb7fd956aad1b835faa3f520ffd9808a012eb2b182c56488247"
   }
  }
 },
 "nbformat": 4,
 "nbformat_minor": 2
}
