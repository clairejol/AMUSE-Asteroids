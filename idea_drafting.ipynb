{
 "cells": [
  {
   "cell_type": "code",
   "execution_count": 1,
   "metadata": {},
   "outputs": [],
   "source": [
    "import numpy as np\n",
    "import itertools \n",
    "\n",
    "from mayavi import mlab\n",
    "\n",
    "from cube_sphere import Cube, Sphere"
   ]
  },
  {
   "cell_type": "code",
   "execution_count": 4,
   "metadata": {},
   "outputs": [],
   "source": [
    "sphere = Sphere(1, definition = 5)\n",
    "sphere_normals, sphere_centers = sphere.get_sphere_normals(return_centers=True)"
   ]
  },
  {
   "cell_type": "code",
   "execution_count": null,
   "metadata": {},
   "outputs": [],
   "source": [
    "X = sphere().T[0]\n",
    "Y = sphere().T[1]\n",
    "Z = sphere().T[2]\n",
    "\n",
    "C = np.repeat(np.array([0.1, 0.3, 0.5, 0.7, 0.9, 1.1]), len(Z)/6)\n",
    "\n",
    "pts = mlab.points3d(X, Y, Z)\n",
    "pts.glyph.scale_mode = 'scale_by_vector'\n",
    "pts.mlab_source.dataset.point_data.scalars = C\n",
    "\n",
    "#pts_2 = mlab.points3d(sphere_centers.T[0], sphere_centers.T[1], sphere_centers.T[2])\n",
    "\n",
    "vectors = mlab.quiver3d(sphere_centers.T[0], sphere_centers.T[1], sphere_centers.T[2], \n",
    "                        sphere_normals.T[0], sphere_normals.T[1], sphere_normals.T[2])\n",
    "\n",
    "mlab.show()"
   ]
  },
  {
   "cell_type": "code",
   "execution_count": null,
   "metadata": {},
   "outputs": [],
   "source": []
  }
 ],
 "metadata": {
  "kernelspec": {
   "display_name": "Python 3.10.6 64-bit ('thesis')",
   "language": "python",
   "name": "python3"
  },
  "language_info": {
   "codemirror_mode": {
    "name": "ipython",
    "version": 3
   },
   "file_extension": ".py",
   "mimetype": "text/x-python",
   "name": "python",
   "nbconvert_exporter": "python",
   "pygments_lexer": "ipython3",
   "version": "3.10.6"
  },
  "orig_nbformat": 4,
  "vscode": {
   "interpreter": {
    "hash": "1ad2468c0b7f5a51cc05aa2cfe41886912e6552d104de16fa8616001577ddbcb"
   }
  }
 },
 "nbformat": 4,
 "nbformat_minor": 2
}
